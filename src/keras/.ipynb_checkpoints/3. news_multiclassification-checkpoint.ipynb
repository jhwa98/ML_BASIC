{
 "cells": [
  {
   "cell_type": "code",
   "execution_count": 1,
   "metadata": {},
   "outputs": [
    {
     "name": "stderr",
     "output_type": "stream",
     "text": [
      "Using TensorFlow backend.\n"
     ]
    },
    {
     "data": {
      "text/plain": [
       "'2.3.1'"
      ]
     },
     "execution_count": 1,
     "metadata": {},
     "output_type": "execute_result"
    }
   ],
   "source": [
    "import numpy as np\n",
    "import matplotlib.pyplot as plt\n",
    "import copy\n",
    "\n",
    "import keras\n",
    "from keras import models\n",
    "from keras import layers\n",
    "from keras import optimizers\n",
    "from keras import losses\n",
    "from keras import metrics\n",
    "from keras.utils.np_utils import to_categorical\n",
    "\n",
    "keras.__version__"
   ]
  },
  {
   "cell_type": "code",
   "execution_count": 2,
   "metadata": {},
   "outputs": [
    {
     "name": "stdout",
     "output_type": "stream",
     "text": [
      "Downloading data from https://s3.amazonaws.com/text-datasets/reuters.npz\n",
      "2113536/2110848 [==============================] - 2s 1us/step\n"
     ]
    }
   ],
   "source": [
    "# IMDB 데이터셋에서처럼 num_words=10000 매개변수는 데이터에서 가장 자주 등장하는 단어 10,000개로 제한\n",
    "from keras.datasets import reuters\n",
    "(train_data, train_labels), (test_data, test_labels) = reuters.load_data(num_words=10000)"
   ]
  },
  {
   "cell_type": "code",
   "execution_count": 3,
   "metadata": {},
   "outputs": [
    {
     "name": "stdout",
     "output_type": "stream",
     "text": [
      "(8982,)\n",
      "(8982,)\n",
      "(2246,)\n",
      "(2246,)\n"
     ]
    }
   ],
   "source": [
    "print(train_data.shape)\n",
    "print(train_labels.shape)\n",
    "print(test_data.shape)\n",
    "print(test_labels.shape)"
   ]
  },
  {
   "cell_type": "code",
   "execution_count": 4,
   "metadata": {},
   "outputs": [
    {
     "name": "stdout",
     "output_type": "stream",
     "text": [
      "[1, 245, 273, 207, 156, 53, 74, 160, 26, 14, 46, 296, 26, 39, 74, 2979, 3554, 14, 46, 4689, 4329, 86, 61, 3499, 4795, 14, 61, 451, 4329, 17, 12]\n",
      "3\n"
     ]
    }
   ],
   "source": [
    "# IMDB 리뷰처럼 각 샘플은 정수 리스트 (단어 인덱스)\n",
    "print(train_data[10])\n",
    "\n",
    "# 샘플에 연결된 레이블은 토픽의 인덱스로 0과 45 사이의 정수\n",
    "print(train_labels[10])"
   ]
  },
  {
   "cell_type": "code",
   "execution_count": 5,
   "metadata": {},
   "outputs": [],
   "source": [
    "#훈련 데이터를 원핫코딩 벡터로 변환\n",
    "def vectorize_sequences(sequences, dimension=10000):\n",
    "    results = np.zeros((len(sequences), dimension))\n",
    "    for i, sequence in enumerate(sequences):\n",
    "        results[i, sequence] = 1.\n",
    "    return results\n",
    "\n",
    "# 훈련 데이터 벡터 변환\n",
    "x_train = vectorize_sequences(train_data)\n",
    "# 테스트 데이터 벡터 변환\n",
    "x_test = vectorize_sequences(test_data)"
   ]
  },
  {
   "cell_type": "code",
   "execution_count": 6,
   "metadata": {},
   "outputs": [],
   "source": [
    "#훈련 레이블을 원핫코딩 벡터로 변환\n",
    "def to_one_hot(labels, dimension=46):\n",
    "    results = np.zeros((len(labels), dimension))\n",
    "    for i, label in enumerate(labels):\n",
    "        results[i, label] = 1.\n",
    "    return results\n",
    "\n",
    "# 훈련 레이블 벡터 변환\n",
    "one_hot_train_labels = to_one_hot(train_labels)\n",
    "# 테스트 레이블 벡터 변환\n",
    "one_hot_test_labels = to_one_hot(test_labels)"
   ]
  },
  {
   "cell_type": "code",
   "execution_count": 8,
   "metadata": {},
   "outputs": [],
   "source": [
    "one_hot_train_labels = to_categorical(train_labels)\n",
    "one_hot_test_labels = to_categorical(test_labels)"
   ]
  },
  {
   "cell_type": "code",
   "execution_count": 9,
   "metadata": {},
   "outputs": [
    {
     "name": "stdout",
     "output_type": "stream",
     "text": [
      "WARNING:tensorflow:From C:\\ProgramData\\Anaconda3\\lib\\site-packages\\tensorflow_core\\python\\ops\\resource_variable_ops.py:1630: calling BaseResourceVariable.__init__ (from tensorflow.python.ops.resource_variable_ops) with constraint is deprecated and will be removed in a future version.\n",
      "Instructions for updating:\n",
      "If using Keras pass *_constraint arguments to layers.\n"
     ]
    }
   ],
   "source": [
    "# 모델 구성\n",
    "model = models.Sequential()\n",
    "model.add(layers.Dense(64, activation='relu', input_shape=(10000,)))\n",
    "model.add(layers.Dense(64, activation='relu'))\n",
    "model.add(layers.Dense(46, activation='softmax'))\n",
    "model.compile(optimizer='rmsprop', loss='categorical_crossentropy', metrics=['accuracy'])"
   ]
  },
  {
   "cell_type": "code",
   "execution_count": 10,
   "metadata": {},
   "outputs": [],
   "source": [
    "x_val = x_train[:1000]\n",
    "partial_x_train = x_train[1000:]\n",
    "\n",
    "y_val = one_hot_train_labels[:1000]\n",
    "partial_y_train = one_hot_train_labels[1000:]"
   ]
  },
  {
   "cell_type": "code",
   "execution_count": 11,
   "metadata": {},
   "outputs": [
    {
     "name": "stdout",
     "output_type": "stream",
     "text": [
      "WARNING:tensorflow:From C:\\ProgramData\\Anaconda3\\lib\\site-packages\\keras\\backend\\tensorflow_backend.py:422: The name tf.global_variables is deprecated. Please use tf.compat.v1.global_variables instead.\n",
      "\n",
      "Train on 7982 samples, validate on 1000 samples\n",
      "Epoch 1/20\n",
      "7982/7982 [==============================] - 1s 101us/step - loss: 2.6624 - accuracy: 0.5076 - val_loss: 1.7646 - val_accuracy: 0.6290\n",
      "Epoch 2/20\n",
      "7982/7982 [==============================] - 1s 77us/step - loss: 1.4628 - accuracy: 0.6952 - val_loss: 1.3418 - val_accuracy: 0.7150\n",
      "Epoch 3/20\n",
      "7982/7982 [==============================] - 1s 77us/step - loss: 1.0779 - accuracy: 0.7717 - val_loss: 1.1659 - val_accuracy: 0.7460\n",
      "Epoch 4/20\n",
      "7982/7982 [==============================] - 1s 77us/step - loss: 0.8524 - accuracy: 0.8198 - val_loss: 1.0641 - val_accuracy: 0.7750\n",
      "Epoch 5/20\n",
      "7982/7982 [==============================] - 1s 79us/step - loss: 0.6761 - accuracy: 0.8573 - val_loss: 0.9903 - val_accuracy: 0.7890\n",
      "Epoch 6/20\n",
      "7982/7982 [==============================] - 1s 76us/step - loss: 0.5422 - accuracy: 0.8870 - val_loss: 0.9540 - val_accuracy: 0.7940\n",
      "Epoch 7/20\n",
      "7982/7982 [==============================] - 1s 78us/step - loss: 0.4295 - accuracy: 0.9119 - val_loss: 0.9299 - val_accuracy: 0.8100\n",
      "Epoch 8/20\n",
      "7982/7982 [==============================] - 1s 80us/step - loss: 0.3544 - accuracy: 0.9288 - val_loss: 0.9334 - val_accuracy: 0.8100\n",
      "Epoch 9/20\n",
      "7982/7982 [==============================] - 1s 78us/step - loss: 0.2882 - accuracy: 0.9386 - val_loss: 0.8996 - val_accuracy: 0.8250\n",
      "Epoch 10/20\n",
      "7982/7982 [==============================] - 1s 82us/step - loss: 0.2457 - accuracy: 0.9446 - val_loss: 0.8990 - val_accuracy: 0.8240\n",
      "Epoch 11/20\n",
      "7982/7982 [==============================] - 1s 77us/step - loss: 0.2086 - accuracy: 0.9494 - val_loss: 0.9186 - val_accuracy: 0.8280\n",
      "Epoch 12/20\n",
      "7982/7982 [==============================] - 1s 77us/step - loss: 0.1877 - accuracy: 0.9503 - val_loss: 0.9620 - val_accuracy: 0.8180\n",
      "Epoch 13/20\n",
      "7982/7982 [==============================] - 1s 77us/step - loss: 0.1663 - accuracy: 0.9543 - val_loss: 0.9844 - val_accuracy: 0.8110\n",
      "Epoch 14/20\n",
      "7982/7982 [==============================] - 1s 78us/step - loss: 0.1489 - accuracy: 0.9544 - val_loss: 0.9775 - val_accuracy: 0.8180\n",
      "Epoch 15/20\n",
      "7982/7982 [==============================] - 1s 77us/step - loss: 0.1467 - accuracy: 0.9549 - val_loss: 1.0065 - val_accuracy: 0.8220\n",
      "Epoch 16/20\n",
      "7982/7982 [==============================] - 1s 78us/step - loss: 0.1340 - accuracy: 0.9559 - val_loss: 1.0227 - val_accuracy: 0.8180\n",
      "Epoch 17/20\n",
      "7982/7982 [==============================] - 1s 79us/step - loss: 0.1287 - accuracy: 0.9580 - val_loss: 1.0886 - val_accuracy: 0.7960\n",
      "Epoch 18/20\n",
      "7982/7982 [==============================] - 1s 76us/step - loss: 0.1217 - accuracy: 0.9575 - val_loss: 1.1071 - val_accuracy: 0.7990\n",
      "Epoch 19/20\n",
      "7982/7982 [==============================] - 1s 77us/step - loss: 0.1183 - accuracy: 0.9584 - val_loss: 1.0861 - val_accuracy: 0.8070\n",
      "Epoch 20/20\n",
      "7982/7982 [==============================] - 1s 78us/step - loss: 0.1128 - accuracy: 0.9573 - val_loss: 1.0932 - val_accuracy: 0.8020\n"
     ]
    }
   ],
   "source": [
    "history = model.fit(partial_x_train,\n",
    "          partial_y_train,\n",
    "          epochs=20,\n",
    "          batch_size=512,\n",
    "          validation_data=(x_val, y_val))"
   ]
  },
  {
   "cell_type": "code",
   "execution_count": 12,
   "metadata": {},
   "outputs": [
    {
     "data": {
      "image/png": "[encoded data removed]",
      "text/plain": [
       "<Figure size 432x288 with 1 Axes>"
      ]
     },
     "metadata": {
      "needs_background": "light"
     },
     "output_type": "display_data"
    }
   ],
   "source": [
    "loss = history.history['loss']\n",
    "val_loss = history.history['val_loss']\n",
    "\n",
    "epochs = range(1, len(loss) + 1)\n",
    "\n",
    "plt.plot(epochs, loss, 'bo', label='Training loss')\n",
    "plt.plot(epochs, val_loss, 'b', label='Validation loss')\n",
    "plt.title('Training and validation loss')\n",
    "plt.xlabel('Epochs')\n",
    "plt.ylabel('Loss')\n",
    "plt.legend()\n",
    "\n",
    "plt.show()"
   ]
  },
  {
   "cell_type": "code",
   "execution_count": 16,
   "metadata": {},
   "outputs": [
    {
     "name": "stdout",
     "output_type": "stream",
     "text": [
      "dict_keys(['val_loss', 'val_accuracy', 'loss', 'accuracy'])\n"
     ]
    },
    {
     "data": {
      "image/png": "[encoded data removed]",
      "text/plain": [
       "<Figure size 432x288 with 1 Axes>"
      ]
     },
     "metadata": {
      "needs_background": "light"
     },
     "output_type": "display_data"
    }
   ],
   "source": [
    "plt.clf()   # 그래프를 초기화합니다\n",
    "\n",
    "#print(history.history.keys())\n",
    "acc = history.history['accuracy']\n",
    "val_acc = history.history['val_accuracy']\n",
    "\n",
    "plt.plot(epochs, acc, 'bo', label='Training acc')\n",
    "plt.plot(epochs, val_acc, 'b', label='Validation acc')\n",
    "plt.title('Training and validation accuracy')\n",
    "plt.xlabel('Epochs')\n",
    "plt.ylabel('Accuracy')\n",
    "plt.legend()\n",
    "\n",
    "plt.show()"
   ]
  },
  {
   "cell_type": "code",
   "execution_count": 17,
   "metadata": {},
   "outputs": [
    {
     "name": "stdout",
     "output_type": "stream",
     "text": [
      "Train on 7982 samples, validate on 1000 samples\n",
      "Epoch 1/9\n",
      "7982/7982 [==============================] - 1s 92us/step - loss: 2.4871 - accuracy: 0.5442 - val_loss: 1.6632 - val_accuracy: 0.6420\n",
      "Epoch 2/9\n",
      "7982/7982 [==============================] - 1s 78us/step - loss: 1.3688 - accuracy: 0.7108 - val_loss: 1.3144 - val_accuracy: 0.7110\n",
      "Epoch 3/9\n",
      "7982/7982 [==============================] - 1s 77us/step - loss: 1.0339 - accuracy: 0.7779 - val_loss: 1.1605 - val_accuracy: 0.7370\n",
      "Epoch 4/9\n",
      "7982/7982 [==============================] - 1s 77us/step - loss: 0.8198 - accuracy: 0.8250 - val_loss: 1.0510 - val_accuracy: 0.7720\n",
      "Epoch 5/9\n",
      "7982/7982 [==============================] - 1s 79us/step - loss: 0.6519 - accuracy: 0.8568 - val_loss: 1.0322 - val_accuracy: 0.7770\n",
      "Epoch 6/9\n",
      "7982/7982 [==============================] - 1s 80us/step - loss: 0.5214 - accuracy: 0.8896 - val_loss: 0.9485 - val_accuracy: 0.8070\n",
      "Epoch 7/9\n",
      "7982/7982 [==============================] - 1s 79us/step - loss: 0.4196 - accuracy: 0.9131 - val_loss: 0.9296 - val_accuracy: 0.8090\n",
      "Epoch 8/9\n",
      "7982/7982 [==============================] - 1s 79us/step - loss: 0.3455 - accuracy: 0.9272 - val_loss: 0.9251 - val_accuracy: 0.8160\n",
      "Epoch 9/9\n",
      "7982/7982 [==============================] - 1s 80us/step - loss: 0.2812 - accuracy: 0.9382 - val_loss: 0.9580 - val_accuracy: 0.8060\n",
      "2246/2246 [==============================] - 0s 90us/step\n",
      "[1.014327911850818, 0.7782725095748901]\n"
     ]
    }
   ],
   "source": [
    "model = models.Sequential()\n",
    "model.add(layers.Dense(64, activation='relu', input_shape=(10000,)))\n",
    "model.add(layers.Dense(64, activation='relu'))\n",
    "model.add(layers.Dense(46, activation='softmax'))\n",
    "\n",
    "model.compile(optimizer='rmsprop', loss='categorical_crossentropy', metrics=['accuracy'])\n",
    "model.fit(partial_x_train, partial_y_train, epochs=9, batch_size=512, validation_data=(x_val, y_val))\n",
    "results = model.evaluate(x_test, one_hot_test_labels)\n",
    "print(results)"
   ]
  },
  {
   "cell_type": "code",
   "execution_count": 22,
   "metadata": {},
   "outputs": [
    {
     "name": "stdout",
     "output_type": "stream",
     "text": [
      "(46,)\n",
      "3\n"
     ]
    }
   ],
   "source": [
    "# 데이터 테스트\n",
    "predictions = model.predict(x_test)\n",
    "print(predictions[0].shape)\n",
    "print(np.argmax(predictions[0]))"
   ]
  },
  {
   "cell_type": "code",
   "execution_count": 19,
   "metadata": {},
   "outputs": [
    {
     "name": "stdout",
     "output_type": "stream",
     "text": [
      "Train on 7982 samples, validate on 1000 samples\n",
      "Epoch 1/9\n",
      "7982/7982 [==============================] - 1s 126us/step - loss: 2.6986 - accuracy: 0.4153 - val_loss: 2.0011 - val_accuracy: 0.5380\n",
      "Epoch 2/9\n",
      "7982/7982 [==============================] - 1s 115us/step - loss: 1.7516 - accuracy: 0.5709 - val_loss: 1.6126 - val_accuracy: 0.5840\n",
      "Epoch 3/9\n",
      "7982/7982 [==============================] - 1s 120us/step - loss: 1.4406 - accuracy: 0.6027 - val_loss: 1.4607 - val_accuracy: 0.6130\n",
      "Epoch 4/9\n",
      "7982/7982 [==============================] - 1s 116us/step - loss: 1.2438 - accuracy: 0.6404 - val_loss: 1.3692 - val_accuracy: 0.6550\n",
      "Epoch 5/9\n",
      "7982/7982 [==============================] - 1s 117us/step - loss: 1.1004 - accuracy: 0.7185 - val_loss: 1.3211 - val_accuracy: 0.6850\n",
      "Epoch 6/9\n",
      "7982/7982 [==============================] - 1s 111us/step - loss: 0.9916 - accuracy: 0.7481 - val_loss: 1.2955 - val_accuracy: 0.6980\n",
      "Epoch 7/9\n",
      "7982/7982 [==============================] - 1s 109us/step - loss: 0.9059 - accuracy: 0.7596 - val_loss: 1.2922 - val_accuracy: 0.6990\n",
      "Epoch 8/9\n",
      "7982/7982 [==============================] - 1s 114us/step - loss: 0.8374 - accuracy: 0.7744 - val_loss: 1.2973 - val_accuracy: 0.7090\n",
      "Epoch 9/9\n",
      "7982/7982 [==============================] - 1s 108us/step - loss: 0.7765 - accuracy: 0.7883 - val_loss: 1.3219 - val_accuracy: 0.7030\n",
      "2246/2246 [==============================] - 0s 77us/step\n",
      "[1.4234281516138825, 0.6825467348098755]\n"
     ]
    }
   ],
   "source": [
    "# 은닉 층의 노드 수를 출력 노드수에 비해 줄이면 안되는 이유 테스트\n",
    "model = models.Sequential()\n",
    "model.add(layers.Dense(64, activation='relu', input_shape=(10000,)))\n",
    "model.add(layers.Dense(4, activation='relu'))\n",
    "model.add(layers.Dense(46, activation='softmax'))\n",
    "\n",
    "model.compile(optimizer='rmsprop', loss='categorical_crossentropy', metrics=['accuracy'])\n",
    "model.fit(partial_x_train, partial_y_train, epochs=9, batch_size=128, validation_data=(x_val, y_val))\n",
    "results = model.evaluate(x_test, one_hot_test_labels)\n",
    "print(results)"
   ]
  },
  {
   "cell_type": "code",
   "execution_count": null,
   "metadata": {},
   "outputs": [],
   "source": []
  }
 ],
 "metadata": {
  "kernelspec": {
   "display_name": "Python 3",
   "language": "python",
   "name": "python3"
  },
  "language_info": {
   "codemirror_mode": {
    "name": "ipython",
    "version": 3
   },
   "file_extension": ".py",
   "mimetype": "text/x-python",
   "name": "python",
   "nbconvert_exporter": "python",
   "pygments_lexer": "ipython3",
   "version": "3.7.4"
  }
 },
 "nbformat": 4,
 "nbformat_minor": 1
}
